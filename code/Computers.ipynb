{
 "cells": [
  {
   "cell_type": "code",
   "execution_count": 3,
   "metadata": {},
   "outputs": [],
   "source": [
    "import numpy as np\n",
    "import pandas as pd\n",
    "from scipy.io import arff\n",
    "import pandas as pd\n",
    "import pytempo\n",
    "import sys\n",
    "import math"
   ]
  },
  {
   "cell_type": "code",
   "execution_count": 4,
   "metadata": {},
   "outputs": [
    {
     "name": "stdout",
     "output_type": "stream",
     "text": [
      "<class 'pandas.core.frame.DataFrame'>\n",
      "RangeIndex: 250 entries, 0 to 249\n",
      "Columns: 721 entries, att1 to target\n",
      "dtypes: float64(720), object(1)\n",
      "memory usage: 1.4+ MB\n",
      "None\n",
      "<class 'pandas.core.frame.DataFrame'>\n",
      "RangeIndex: 250 entries, 0 to 249\n",
      "Columns: 721 entries, att1 to target\n",
      "dtypes: float64(720), object(1)\n",
      "memory usage: 1.4+ MB\n",
      "None\n"
     ]
    }
   ],
   "source": [
    "train = arff.loadarff('Computers_TRAIN.arff')\n",
    "train = pd.DataFrame(train[0])\n",
    "test = arff.loadarff('Computers_TEST.arff')\n",
    "test = pd.DataFrame(test[0])\n",
    "print(train.info())\n",
    "print(test.info())"
   ]
  },
  {
   "cell_type": "code",
   "execution_count": 5,
   "metadata": {},
   "outputs": [
    {
     "data": {
      "text/plain": [
       "array([[-0.33503182, -0.33503182, -0.33503182, ..., -0.33503182,\n",
       "        -0.33503182, -0.33503182],\n",
       "       [-0.60252494, -0.60252494, -0.60252494, ..., -0.60252494,\n",
       "        -0.60252494, -0.60252494],\n",
       "       [-0.3202215 , -0.3202215 , -0.3202215 , ..., -0.3202215 ,\n",
       "        -0.3202215 , -0.3202215 ],\n",
       "       ...,\n",
       "       [-0.14388754, -0.47382074, -0.14388754, ..., -0.47382074,\n",
       "        -0.14388754, -0.47382074],\n",
       "       [-0.41048285, -0.64030218, -0.41048285, ..., -0.64030218,\n",
       "        -0.41048285, -0.64030218],\n",
       "       [ 6.9858988 ,  6.9858988 ,  6.9858988 , ..., -0.40296684,\n",
       "        -0.40296684, -0.40296684]])"
      ]
     },
     "execution_count": 5,
     "metadata": {},
     "output_type": "execute_result"
    }
   ],
   "source": [
    "np_train=train.iloc[:,:-1].to_numpy()\n",
    "np_train"
   ]
  },
  {
   "cell_type": "code",
   "execution_count": 6,
   "metadata": {},
   "outputs": [
    {
     "data": {
      "text/plain": [
       "array([1, 1, 1, 1, 1, 1, 1, 1, 1, 1, 1, 1, 1, 1, 1, 1, 1, 1, 1, 1, 1, 1,\n",
       "       1, 1, 1, 1, 1, 1, 1, 1, 1, 1, 1, 1, 1, 1, 1, 1, 1, 1, 1, 1, 1, 1,\n",
       "       1, 1, 1, 1, 1, 1, 1, 1, 1, 1, 1, 1, 1, 1, 1, 1, 1, 1, 1, 1, 1, 1,\n",
       "       1, 1, 1, 1, 1, 1, 1, 1, 1, 1, 1, 1, 1, 1, 1, 1, 1, 1, 1, 1, 1, 1,\n",
       "       1, 1, 1, 1, 1, 1, 1, 1, 1, 1, 1, 1, 1, 1, 1, 1, 1, 1, 1, 1, 1, 1,\n",
       "       1, 1, 1, 1, 1, 1, 1, 1, 1, 1, 1, 1, 1, 1, 1, 2, 2, 2, 2, 2, 2, 2,\n",
       "       2, 2, 2, 2, 2, 2, 2, 2, 2, 2, 2, 2, 2, 2, 2, 2, 2, 2, 2, 2, 2, 2,\n",
       "       2, 2, 2, 2, 2, 2, 2, 2, 2, 2, 2, 2, 2, 2, 2, 2, 2, 2, 2, 2, 2, 2,\n",
       "       2, 2, 2, 2, 2, 2, 2, 2, 2, 2, 2, 2, 2, 2, 2, 2, 2, 2, 2, 2, 2, 2,\n",
       "       2, 2, 2, 2, 2, 2, 2, 2, 2, 2, 2, 2, 2, 2, 2, 2, 2, 2, 2, 2, 2, 2,\n",
       "       2, 2, 2, 2, 2, 2, 2, 2, 2, 2, 2, 2, 2, 2, 2, 2, 2, 2, 2, 2, 2, 2,\n",
       "       2, 2, 2, 2, 2, 2, 2, 2])"
      ]
     },
     "execution_count": 6,
     "metadata": {},
     "output_type": "execute_result"
    }
   ],
   "source": [
    "np_train_label=train.iloc[:,-1].to_numpy()\n",
    "np_train_label=np_train_label.astype(int)\n",
    "np_train_label"
   ]
  },
  {
   "cell_type": "code",
   "execution_count": 7,
   "metadata": {},
   "outputs": [
    {
     "data": {
      "text/plain": [
       "array([[-0.61463597, -0.61463597, -0.61463597, ..., -0.61463597,\n",
       "        -0.61463597, -0.61463597],\n",
       "       [-0.30610884, -0.30610884, -0.30610884, ..., -0.30610884,\n",
       "        -0.30610884, -0.20633593],\n",
       "       [ 1.4364003 ,  1.4364003 ,  1.4364003 , ..., -0.72557049,\n",
       "        -0.72557049, -0.67643479],\n",
       "       ...,\n",
       "       [-0.37082887, -0.37082887, -0.37082887, ..., -0.37082887,\n",
       "        -0.37082887, -0.37082887],\n",
       "       [ 1.6489296 ,  1.1754268 ,  1.6489296 , ..., -0.71858431,\n",
       "        -0.71858431, -0.71858431],\n",
       "       [-0.43168071, -0.43168071, -0.43168071, ...,  1.899978  ,\n",
       "         1.899978  ,  1.899978  ]])"
      ]
     },
     "execution_count": 7,
     "metadata": {},
     "output_type": "execute_result"
    }
   ],
   "source": [
    "np_test=test.iloc[:,:-1].to_numpy()\n",
    "np_test"
   ]
  },
  {
   "cell_type": "code",
   "execution_count": 8,
   "metadata": {},
   "outputs": [
    {
     "data": {
      "text/plain": [
       "array([1, 1, 1, 1, 1, 1, 1, 1, 1, 1, 1, 1, 1, 1, 1, 1, 1, 1, 1, 1, 1, 1,\n",
       "       1, 1, 1, 1, 1, 1, 1, 1, 1, 1, 1, 1, 1, 1, 1, 1, 1, 1, 1, 1, 1, 1,\n",
       "       1, 1, 1, 1, 1, 1, 1, 1, 1, 1, 1, 1, 1, 1, 1, 1, 1, 1, 1, 1, 1, 1,\n",
       "       1, 1, 1, 1, 1, 1, 1, 1, 1, 1, 1, 1, 1, 1, 1, 1, 1, 1, 1, 1, 1, 1,\n",
       "       1, 1, 1, 1, 1, 1, 1, 1, 1, 1, 1, 1, 1, 1, 1, 1, 1, 1, 1, 1, 1, 1,\n",
       "       1, 1, 1, 1, 1, 1, 1, 1, 1, 1, 1, 1, 1, 1, 1, 2, 2, 2, 2, 2, 2, 2,\n",
       "       2, 2, 2, 2, 2, 2, 2, 2, 2, 2, 2, 2, 2, 2, 2, 2, 2, 2, 2, 2, 2, 2,\n",
       "       2, 2, 2, 2, 2, 2, 2, 2, 2, 2, 2, 2, 2, 2, 2, 2, 2, 2, 2, 2, 2, 2,\n",
       "       2, 2, 2, 2, 2, 2, 2, 2, 2, 2, 2, 2, 2, 2, 2, 2, 2, 2, 2, 2, 2, 2,\n",
       "       2, 2, 2, 2, 2, 2, 2, 2, 2, 2, 2, 2, 2, 2, 2, 2, 2, 2, 2, 2, 2, 2,\n",
       "       2, 2, 2, 2, 2, 2, 2, 2, 2, 2, 2, 2, 2, 2, 2, 2, 2, 2, 2, 2, 2, 2,\n",
       "       2, 2, 2, 2, 2, 2, 2, 2])"
      ]
     },
     "execution_count": 8,
     "metadata": {},
     "output_type": "execute_result"
    }
   ],
   "source": [
    "np_test_label=test.iloc[:,-1].to_numpy()\n",
    "np_test_label=np_test_label.astype(int)\n",
    "np_test_label"
   ]
  },
  {
   "cell_type": "code",
   "execution_count": 9,
   "metadata": {},
   "outputs": [],
   "source": [
    "# Euclidean\n",
    "def Euclidean():\n",
    "    min_ed =sys.maxsize\n",
    "    min_y = sys.maxsize\n",
    "    result_ed=[]\n",
    "    ed=[]\n",
    "    for i in range(len(np_test)):\n",
    "        q = np_test[i]\n",
    "        min_ed =sys.maxsize\n",
    "        min_y = sys.maxsize\n",
    "        for j in range(len(np_train)):\n",
    "            c= np_train[j]\n",
    "            v = np.linalg.norm(q - c)\n",
    "            if(v<min_ed):\n",
    "                min_ed = v\n",
    "                min_y = np_train_label[j]\n",
    "        result_ed.append(min_y)\n",
    "    return result_ed\n",
    "\n",
    "# DTW\n",
    "def dtw():\n",
    "    min_dtw =sys.maxsize\n",
    "    min_y = sys.maxsize\n",
    "    ud = pytempo.univariate.distances\n",
    "    result=[]\n",
    "    dtw=[]\n",
    "    for i in range(len(np_test)):\n",
    "        q = np_test[i]\n",
    "        min_dtw =sys.maxsize\n",
    "        min_y = sys.maxsize\n",
    "        for j in range(len(np_train)):\n",
    "            c= np_train[j]\n",
    "            v = ud.dtw(q, c)\n",
    "            if(v<min_dtw):\n",
    "                min_dtw = v\n",
    "                min_y = np_train_label[j]\n",
    "        result.append(min_y)\n",
    "        dtw.append(min_dtw)  \n",
    "    return result\n",
    "def cdtw(w):\n",
    "    min_cdtw =sys.maxsize\n",
    "    min_y = sys.maxsize\n",
    "    result_cdtw=[]\n",
    "    cdtw=[]\n",
    "    L = 720\n",
    "    for i in range(len(np_test)):\n",
    "        q = np_test[i]\n",
    "        min_cdtw =sys.maxsize\n",
    "        min_y = sys.maxsize\n",
    "        for j in range(len(np_train)):\n",
    "            c= np_train[j]\n",
    "            v = ud.cdtw(q, c, w*round(L/100))\n",
    "            if(v<min_cdtw):\n",
    "                min_cdtw = v\n",
    "                min_y = np_train_label[j]\n",
    "        result_cdtw.append(min_y)\n",
    "        cdtw.append(min_cdtw) \n",
    "    return result_cdtw"
   ]
  },
  {
   "cell_type": "code",
   "execution_count": 10,
   "metadata": {},
   "outputs": [
    {
     "name": "stdout",
     "output_type": "stream",
     "text": [
      "Ed: 0.4240\n",
      "DTW(Learned w): 0.3880\n",
      "DTW(w=100): 0.3000\n"
     ]
    }
   ],
   "source": [
    "q1=0\n",
    "q2=0\n",
    "q3=0\n",
    "ud = pytempo.univariate.distances\n",
    "r1 = Euclidean()\n",
    "r2 = dtw()\n",
    "r3 = cdtw(12)\n",
    "for i in range(len(np_test_label)):\n",
    "    if r1[i]==np_test_label[i]:\n",
    "        q1=q1+1\n",
    "    if r2[i]==np_test_label[i]:\n",
    "        q2=q2+1\n",
    "    if r3[i]==np_test_label[i]:\n",
    "        q3=q3+1   \n",
    "a1 = q1/len(np_test_label)\n",
    "a2 = q2/len(np_test_label)\n",
    "a3 = q3/len(np_test_label)\n",
    "print(f'Ed: {format(1-a1, \".4f\")}')\n",
    "print(f'DTW(Learned w): {format(1-a3, \".4f\")}')\n",
    "print(f'DTW(w=100): {format(1-a2, \".4f\")}')"
   ]
  },
  {
   "cell_type": "code",
   "execution_count": null,
   "metadata": {},
   "outputs": [],
   "source": []
  }
 ],
 "metadata": {
  "kernelspec": {
   "display_name": "Python 3",
   "language": "python",
   "name": "python3"
  },
  "language_info": {
   "codemirror_mode": {
    "name": "ipython",
    "version": 3
   },
   "file_extension": ".py",
   "mimetype": "text/x-python",
   "name": "python",
   "nbconvert_exporter": "python",
   "pygments_lexer": "ipython3",
   "version": "3.8.5"
  }
 },
 "nbformat": 4,
 "nbformat_minor": 4
}
