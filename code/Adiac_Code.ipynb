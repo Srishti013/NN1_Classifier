{
 "cells": [
  {
   "cell_type": "code",
   "execution_count": 2,
   "metadata": {},
   "outputs": [],
   "source": [
    "import numpy as np\n",
    "import pandas as pd\n",
    "from scipy.io import arff\n",
    "import pandas as pd\n",
    "import pytempo\n",
    "import sys"
   ]
  },
  {
   "cell_type": "code",
   "execution_count": 3,
   "metadata": {},
   "outputs": [
    {
     "name": "stdout",
     "output_type": "stream",
     "text": [
      "<class 'pandas.core.frame.DataFrame'>\n",
      "RangeIndex: 390 entries, 0 to 389\n",
      "Columns: 177 entries, att1 to target\n",
      "dtypes: float64(176), object(1)\n",
      "memory usage: 539.4+ KB\n",
      "None\n",
      "<class 'pandas.core.frame.DataFrame'>\n",
      "RangeIndex: 391 entries, 0 to 390\n",
      "Columns: 177 entries, att1 to target\n",
      "dtypes: float64(176), object(1)\n",
      "memory usage: 540.8+ KB\n",
      "None\n"
     ]
    }
   ],
   "source": [
    "train = arff.loadarff('Adiac_TRAIN.arff')\n",
    "train = pd.DataFrame(train[0])\n",
    "test = arff.loadarff('Adiac_TEST.arff')\n",
    "test = pd.DataFrame(test[0])\n",
    "print(train.info())\n",
    "print(test.info())"
   ]
  },
  {
   "cell_type": "code",
   "execution_count": 4,
   "metadata": {},
   "outputs": [
    {
     "data": {
      "text/plain": [
       "array([[1.5980065, 1.5994389, 1.5705294, ..., 1.5641545, 1.5708545,\n",
       "        1.5928905],\n",
       "       [1.7011457, 1.670645 , 1.6188844, ..., 1.5197372, 1.6025179,\n",
       "        1.6701904],\n",
       "       [1.722342 , 1.6953288, 1.6569459, ..., 1.6418088, 1.6949728,\n",
       "        1.7084884],\n",
       "       ...,\n",
       "       [2.5955985, 2.6250629, 2.4239586, ..., 2.1440004, 2.1288939,\n",
       "        2.1176354],\n",
       "       [1.6598998, 1.6441473, 1.5937788, ..., 1.5798671, 1.636902 ,\n",
       "        1.6601968],\n",
       "       [1.7266289, 1.7288809, 1.7116989, ..., 1.5963694, 1.6403326,\n",
       "        1.6988142]])"
      ]
     },
     "execution_count": 4,
     "metadata": {},
     "output_type": "execute_result"
    }
   ],
   "source": [
    "np_train=train.iloc[:,:-1].to_numpy()\n",
    "np_train"
   ]
  },
  {
   "cell_type": "code",
   "execution_count": 5,
   "metadata": {},
   "outputs": [
    {
     "data": {
      "text/plain": [
       "array([22, 28, 21, 15,  2, 18, 21, 36, 11, 21, 29, 26,  1,  9, 17,  7, 36,\n",
       "       25, 11, 10, 25, 14,  3,  4, 36,  4,  4, 12, 23, 23,  6, 22,  8, 25,\n",
       "       21, 34, 33, 28,  1, 24,  2, 37, 32, 37, 12, 17,  6, 11,  4, 29, 20,\n",
       "        2, 27, 17, 20, 32, 25, 30, 31, 34, 16, 32, 28, 23, 15, 20, 24, 11,\n",
       "       35, 36, 26, 12, 18, 28,  2, 14,  7, 28, 34, 27, 31, 31, 35,  9, 19,\n",
       "       36, 12, 10, 10,  7, 14, 15, 10, 15,  6,  4, 32, 17, 23, 33, 19, 33,\n",
       "       18, 22, 34,  9, 10, 15, 32, 30, 10, 14,  1, 27, 16, 36, 24, 22, 32,\n",
       "       15,  2,  4, 26, 27, 12, 16, 28, 24, 23, 37, 13,  4,  8, 14, 31, 24,\n",
       "       29, 27, 35,  6,  2, 34,  1, 32,  6, 26, 33, 21,  4, 11,  8, 30,  7,\n",
       "       17, 20, 16,  2, 11, 25,  5, 36, 13,  3, 12,  2, 18, 12, 37, 27, 28,\n",
       "       24, 24, 11, 21, 20, 14, 28, 10, 22,  9, 12, 24,  6, 17,  9, 26, 27,\n",
       "        5, 25, 19,  7, 14, 20, 19, 24,  7,  1, 31, 21, 22, 24, 30, 29,  8,\n",
       "       15, 20, 37, 12, 18, 16, 17,  5, 33, 12, 14,  6, 28, 34, 14,  7,  6,\n",
       "       32, 25, 16,  9, 37, 35, 18, 36, 35,  2,  9, 19, 33,  4,  2, 14, 36,\n",
       "       15, 19, 35,  6, 25, 11, 15, 23, 10, 20, 25,  6,  1,  4, 22, 26, 17,\n",
       "       23, 10, 29,  7, 30,  3, 22, 33, 16, 13, 27, 16, 29, 19, 19,  1, 28,\n",
       "        1, 30,  8,  5,  1,  3, 27,  1, 11, 29,  4,  4,  6, 28, 24, 21, 27,\n",
       "       26, 36, 33, 18,  8, 17, 35, 32, 33,  8, 30,  8, 35, 31, 30,  8,  8,\n",
       "       13, 30, 32,  8,  7, 25, 12, 23, 14, 27, 11, 24, 10, 26, 18, 19,  9,\n",
       "       18, 32, 34, 10,  4, 25, 28, 19, 32, 12,  4,  1, 20, 27, 35, 32, 13,\n",
       "       19, 16, 30, 31, 15,  3, 17, 36,  1, 31, 13, 24, 27, 29, 26, 30,  8,\n",
       "       22, 30, 34, 33, 37, 37,  1, 19, 15, 35, 17, 24, 19, 29, 23, 22, 15,\n",
       "       19, 33,  9, 34, 16,  8, 24, 33, 30,  7, 25, 31, 33,  6, 28, 25])"
      ]
     },
     "execution_count": 5,
     "metadata": {},
     "output_type": "execute_result"
    }
   ],
   "source": [
    "np_train_label=train.iloc[:,-1].to_numpy()\n",
    "np_train_label=np_train_label.astype(int)\n",
    "np_train_label"
   ]
  },
  {
   "cell_type": "code",
   "execution_count": 16,
   "metadata": {},
   "outputs": [
    {
     "data": {
      "text/plain": [
       "array([[1.374884 , 1.2894387, 1.2043045, ..., 1.6103982, 1.53924  ,\n",
       "        1.4519241],\n",
       "       [1.339994 , 1.2353184, 1.1320378, ..., 1.6572156, 1.5480958,\n",
       "        1.4413616],\n",
       "       [1.6741981, 1.6438445, 1.5707222, ..., 1.5604672, 1.6344822,\n",
       "        1.6737078],\n",
       "       ...,\n",
       "       [1.6519997, 1.6967991, 1.7005604, ..., 1.499251 , 1.5557159,\n",
       "        1.6203831],\n",
       "       [1.3986733, 1.2933925, 1.1888369, ..., 1.6363385, 1.5626484,\n",
       "        1.4605437],\n",
       "       [1.7271724, 1.7283587, 1.6937594, ..., 1.6272951, 1.6753428,\n",
       "        1.6989307]])"
      ]
     },
     "execution_count": 16,
     "metadata": {},
     "output_type": "execute_result"
    }
   ],
   "source": [
    "np_test=test.iloc[:,:-1].to_numpy()\n",
    "np_test"
   ]
  },
  {
   "cell_type": "code",
   "execution_count": 12,
   "metadata": {},
   "outputs": [
    {
     "data": {
      "text/plain": [
       "array([16, 36, 34, 22, 16, 31, 24,  2, 30, 14, 24, 14, 25, 18, 32, 28, 18,\n",
       "       26, 31, 37, 10, 31, 21, 14, 34,  3,  2, 29, 32, 32,  5, 12, 20, 18,\n",
       "       36, 35, 37, 20,  7, 11, 12, 12,  8,  6, 12, 15,  7, 20, 25, 16, 14,\n",
       "       15, 13, 36, 31, 12, 25, 27, 20, 10, 18, 17, 13, 23,  2, 11, 24, 18,\n",
       "        7, 12,  3, 12, 36,  2, 12, 21, 23,  5, 15,  2, 26,  6, 26, 10,  2,\n",
       "       10, 22,  4, 22, 31, 29,  3, 18, 11, 25, 31,  5, 20, 28, 36,  6, 31,\n",
       "       21, 24, 17, 29, 19, 15, 21, 26, 34, 29, 22, 21, 21,  1, 22,  3, 35,\n",
       "        3, 19,  6, 37, 25,  5,  8,  5,  3, 28, 14, 15, 25, 34,  9, 11, 21,\n",
       "       23, 15, 18, 36, 19, 11, 33, 20, 36, 16, 33, 37, 19, 17, 26, 34, 14,\n",
       "       13, 19, 35, 16, 14, 37, 25,  5,  5, 17, 19, 27, 37, 13, 35,  4, 35,\n",
       "       34, 28, 13,  3,  3, 21, 18,  2, 18, 36,  7,  3, 25,  3, 29,  4, 20,\n",
       "        8, 13, 33, 35,  1, 34, 37, 25, 30,  1, 36,  8, 35, 24,  9, 26, 11,\n",
       "       33, 26, 23, 36, 24,  3, 23,  5, 17, 21, 12, 22, 11, 17, 10,  8, 10,\n",
       "        8, 21, 31, 30, 37, 23,  5, 12, 15, 20, 35, 12, 35,  5, 23, 28, 27,\n",
       "        6,  2,  7,  5,  9, 13, 37, 32,  2, 29, 23, 19, 29, 32,  9, 30, 12,\n",
       "       33, 16,  9,  6,  2,  3,  5, 22, 15, 23,  7, 12,  7, 22, 19, 25,  4,\n",
       "       25, 16, 27,  3, 16, 11, 31, 16, 25, 13, 19, 34, 24, 30, 27,  2, 32,\n",
       "       30, 17, 25, 36, 10,  7, 26, 22,  8, 34,  8,  7, 25,  1,  8,  9, 13,\n",
       "        5, 37, 17, 18, 23,  3,  1,  9, 19, 13, 27, 31, 13, 14, 23, 12, 21,\n",
       "       20, 33,  6,  4, 26, 29, 14, 13, 13, 25,  5, 20, 11, 21, 33, 22, 11,\n",
       "       29,  9, 18,  2,  8, 34, 19, 26,  3, 13, 18, 27,  9,  8, 10, 32, 28,\n",
       "        7, 29, 36,  8,  4, 30, 26,  6, 19,  9,  1, 34, 17, 36,  5, 18, 24,\n",
       "        9, 20, 31, 15, 29, 37, 20, 37,  2, 28, 16,  1, 25, 35,  5, 36, 10])"
      ]
     },
     "execution_count": 12,
     "metadata": {},
     "output_type": "execute_result"
    }
   ],
   "source": [
    "np_test_label=test.iloc[:,-1].to_numpy()\n",
    "np_test_label=np_test_label.astype(int)\n",
    "np_test_label"
   ]
  },
  {
   "cell_type": "code",
   "execution_count": 25,
   "metadata": {},
   "outputs": [],
   "source": [
    "# Euclidean\n",
    "def Euclidean():\n",
    "    min_ed =sys.maxsize\n",
    "    min_y = sys.maxsize\n",
    "    result_ed=[]\n",
    "    ed=[]\n",
    "    for i in range(len(np_test)):\n",
    "        q = np_test[i]\n",
    "        for j in range(len(np_train)):\n",
    "            c= np_train[j]\n",
    "            v = np.sum(np.square(q - c))\n",
    "            if(v<min_ed):\n",
    "                min_ed = v\n",
    "                min_y = np_train_label[j]\n",
    "        result_ed.append(min_y)\n",
    "    return result_ed\n",
    "\n",
    "# DTW\n",
    "def dtw():\n",
    "    min_dtw =sys.maxsize\n",
    "    min_y = sys.maxsize\n",
    "    ud = pytempo.univariate.distances\n",
    "    result=[]\n",
    "    dtw=[]\n",
    "    for i in range(len(np_test)):\n",
    "        q = np_test[i]\n",
    "        for j in range(len(np_train)):\n",
    "            c= np_train[j]\n",
    "            v = ud.dtw(q, c)\n",
    "            if(v<min_dtw):\n",
    "                min_dtw = v\n",
    "                min_y = np_train_label[j]\n",
    "        result.append(min_y)\n",
    "        dtw.append(min_dtw)  \n",
    "    return result"
   ]
  },
  {
   "cell_type": "code",
   "execution_count": 26,
   "metadata": {},
   "outputs": [
    {
     "name": "stdout",
     "output_type": "stream",
     "text": [
      "Ed: 0.9565\n",
      "Default Rate: 0.9642\n"
     ]
    }
   ],
   "source": [
    "q1=0\n",
    "q2=0\n",
    "r1 = Euclidean()\n",
    "r2 = dtw()\n",
    "for i in range(len(np_test_label)):\n",
    "    if r1[i]==np_test_label[i]:\n",
    "        q1=q1+1\n",
    "    if r2[i]==np_test_label[i]:\n",
    "        q2=q2+1\n",
    "a1 = q1/len(np_test_label)\n",
    "a2 = q2/len(np_test_label)\n",
    "print(f'Ed: {format(1-a1, \".4f\")}')\n",
    "print(f'Default Rate: {format(1-a2, \".4f\")}')"
   ]
  },
  {
   "cell_type": "code",
   "execution_count": null,
   "metadata": {},
   "outputs": [],
   "source": []
  }
 ],
 "metadata": {
  "kernelspec": {
   "display_name": "Python 3",
   "language": "python",
   "name": "python3"
  },
  "language_info": {
   "codemirror_mode": {
    "name": "ipython",
    "version": 3
   },
   "file_extension": ".py",
   "mimetype": "text/x-python",
   "name": "python",
   "nbconvert_exporter": "python",
   "pygments_lexer": "ipython3",
   "version": "3.8.5"
  }
 },
 "nbformat": 4,
 "nbformat_minor": 5
}
