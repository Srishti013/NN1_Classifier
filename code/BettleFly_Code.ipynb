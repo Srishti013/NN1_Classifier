{
 "cells": [
  {
   "cell_type": "code",
   "execution_count": 3,
   "metadata": {},
   "outputs": [],
   "source": [
    "import numpy as np\n",
    "import pandas as pd\n",
    "from scipy.io import arff\n",
    "import pandas as pd\n",
    "import pytempo\n",
    "import sys"
   ]
  },
  {
   "cell_type": "code",
   "execution_count": 4,
   "metadata": {},
   "outputs": [
    {
     "name": "stdout",
     "output_type": "stream",
     "text": [
      "<class 'pandas.core.frame.DataFrame'>\n",
      "RangeIndex: 20 entries, 0 to 19\n",
      "Columns: 513 entries, att1 to target\n",
      "dtypes: float64(512), object(1)\n",
      "memory usage: 80.3+ KB\n",
      "None\n",
      "<class 'pandas.core.frame.DataFrame'>\n",
      "RangeIndex: 20 entries, 0 to 19\n",
      "Columns: 513 entries, att1 to target\n",
      "dtypes: float64(512), object(1)\n",
      "memory usage: 80.3+ KB\n",
      "None\n"
     ]
    }
   ],
   "source": [
    "train = arff.loadarff('BeetleFly_TRAIN.arff')\n",
    "train = pd.DataFrame(train[0])\n",
    "test = arff.loadarff('BeetleFly_TEST.arff')\n",
    "test = pd.DataFrame(test[0])\n",
    "print(train.info())\n",
    "print(test.info())"
   ]
  },
  {
   "cell_type": "code",
   "execution_count": 5,
   "metadata": {},
   "outputs": [
    {
     "data": {
      "text/plain": [
       "array([[1.2467886 , 1.1749374 , 1.0688188 , ..., 1.1264838 , 1.2218016 ,\n",
       "        1.2866704 ],\n",
       "       [0.82587635, 0.88131401, 0.81807343, ..., 0.55837279, 0.64643742,\n",
       "        0.75525556],\n",
       "       [2.1328304 , 2.029373  , 1.9404839 , ..., 1.9620999 , 2.0634468 ,\n",
       "        2.1498487 ],\n",
       "       ...,\n",
       "       [2.1416023 , 2.1515685 , 2.0351355 , ..., 1.7240577 , 1.885459  ,\n",
       "        2.0473709 ],\n",
       "       [1.9203439 , 1.9255989 , 1.8505462 , ..., 1.5577559 , 1.637236  ,\n",
       "        1.7979197 ],\n",
       "       [1.4016579 , 1.3684963 , 1.248251  , ..., 1.0372773 , 1.1970256 ,\n",
       "        1.3175642 ]])"
      ]
     },
     "execution_count": 5,
     "metadata": {},
     "output_type": "execute_result"
    }
   ],
   "source": [
    "np_train=train.iloc[:,:-1].to_numpy()\n",
    "np_train"
   ]
  },
  {
   "cell_type": "code",
   "execution_count": 6,
   "metadata": {},
   "outputs": [
    {
     "data": {
      "text/plain": [
       "array([1, 1, 1, 1, 1, 1, 1, 1, 1, 1, 2, 2, 2, 2, 2, 2, 2, 2, 2, 2])"
      ]
     },
     "execution_count": 6,
     "metadata": {},
     "output_type": "execute_result"
    }
   ],
   "source": [
    "np_train_label=train.iloc[:,-1].to_numpy()\n",
    "np_train_label=np_train_label.astype(int)\n",
    "np_train_label"
   ]
  },
  {
   "cell_type": "code",
   "execution_count": 7,
   "metadata": {},
   "outputs": [
    {
     "data": {
      "text/plain": [
       "array([[ 1.7400873 ,  1.7331051 ,  1.7091917 , ...,  1.4434654 ,\n",
       "         1.5501407 ,  1.6625118 ],\n",
       "       [ 1.6792112 ,  1.7372853 ,  1.8133272 , ...,  1.3570367 ,\n",
       "         1.4772951 ,  1.5977733 ],\n",
       "       [ 0.10087896,  0.17041868,  0.26746747, ..., -0.14894719,\n",
       "        -0.05224583,  0.02401989],\n",
       "       ...,\n",
       "       [ 1.556693  ,  1.6197961 ,  1.7035214 , ...,  1.2933423 ,\n",
       "         1.3686128 ,  1.4785764 ],\n",
       "       [ 1.6291159 ,  1.5422846 ,  1.4388813 , ...,  1.3809487 ,\n",
       "         1.4810994 ,  1.6157037 ],\n",
       "       [ 2.134566  ,  2.1704899 ,  2.1618218 , ...,  1.9251837 ,\n",
       "         2.0174724 ,  2.0791975 ]])"
      ]
     },
     "execution_count": 7,
     "metadata": {},
     "output_type": "execute_result"
    }
   ],
   "source": [
    "np_test=test.iloc[:,:-1].to_numpy()\n",
    "np_test"
   ]
  },
  {
   "cell_type": "code",
   "execution_count": 8,
   "metadata": {},
   "outputs": [
    {
     "data": {
      "text/plain": [
       "array([1, 1, 1, 1, 1, 1, 1, 1, 1, 1, 2, 2, 2, 2, 2, 2, 2, 2, 2, 2])"
      ]
     },
     "execution_count": 8,
     "metadata": {},
     "output_type": "execute_result"
    }
   ],
   "source": [
    "np_test_label=test.iloc[:,-1].to_numpy()\n",
    "np_test_label=np_test_label.astype(int)\n",
    "np_test_label"
   ]
  },
  {
   "cell_type": "code",
   "execution_count": 12,
   "metadata": {},
   "outputs": [],
   "source": [
    "# Euclidean\n",
    "def Euclidean():\n",
    "    min_ed =sys.maxsize\n",
    "    min_y = sys.maxsize\n",
    "    result_ed=[]\n",
    "    ed=[]\n",
    "    for i in range(len(np_test)):\n",
    "        q = np_test[i]\n",
    "        min_ed =sys.maxsize\n",
    "        min_y = sys.maxsize\n",
    "        for j in range(len(np_train)):\n",
    "            c= np_train[j]\n",
    "            v = np.linalg.norm(q - c)\n",
    "            if(v<min_ed):\n",
    "                min_ed = v\n",
    "                min_y = np_train_label[j]\n",
    "        result_ed.append(min_y)\n",
    "    return result_ed\n",
    "\n",
    "# DTW\n",
    "def dtw():\n",
    "    min_dtw =sys.maxsize\n",
    "    min_y = sys.maxsize\n",
    "    ud = pytempo.univariate.distances\n",
    "    result=[]\n",
    "    dtw=[]\n",
    "    for i in range(len(np_test)):\n",
    "        q = np_test[i]\n",
    "        min_dtw =sys.maxsize\n",
    "        min_y = sys.maxsize\n",
    "        for j in range(len(np_train)):\n",
    "            c= np_train[j]\n",
    "            v = ud.dtw(q, c)\n",
    "            if(v<min_dtw):\n",
    "                min_dtw = v\n",
    "                min_y = np_train_label[j]\n",
    "        result.append(min_y)\n",
    "        dtw.append(min_dtw)  \n",
    "    return result\n",
    "def cdtw(w):\n",
    "    min_cdtw =sys.maxsize\n",
    "    min_y = sys.maxsize\n",
    "    result_cdtw=[]\n",
    "    cdtw=[]\n",
    "    L = len(np_test)\n",
    "    for i in range(len(np_test)):\n",
    "        q = np_test[i]\n",
    "        min_cdtw =sys.maxsize\n",
    "        min_y = sys.maxsize\n",
    "        for j in range(len(np_train)):\n",
    "            c= np_train[j]\n",
    "            v = ud.cdtw(q, c, w*(L-1))\n",
    "            if(v<min_cdtw):\n",
    "                min_cdtw = v\n",
    "                min_y = np_train_label[j]\n",
    "        result_cdtw.append(min_y)\n",
    "        cdtw.append(min_cdtw) \n",
    "    return result_cdtw"
   ]
  },
  {
   "cell_type": "code",
   "execution_count": 13,
   "metadata": {},
   "outputs": [
    {
     "name": "stdout",
     "output_type": "stream",
     "text": [
      "Ed: 0.2500\n",
      "DTW(Learned w): 0.3000\n",
      "DTW(w=100): 0.3000\n"
     ]
    }
   ],
   "source": [
    "q1=0\n",
    "q2=0\n",
    "q3=0\n",
    "ud = pytempo.univariate.distances\n",
    "r1 = Euclidean()\n",
    "r2 = dtw()\n",
    "r3 = cdtw(7)\n",
    "for i in range(len(np_test_label)):\n",
    "    if r1[i]==np_test_label[i]:\n",
    "        q1=q1+1\n",
    "    if r2[i]==np_test_label[i]:\n",
    "        q2=q2+1\n",
    "    if r3[i]==np_test_label[i]:\n",
    "        q3=q3+1   \n",
    "a1 = q1/len(np_test_label)\n",
    "a2 = q2/len(np_test_label)\n",
    "a3 = q3/len(np_test_label)\n",
    "print(f'Ed: {format(1-a1, \".4f\")}')\n",
    "print(f'DTW(Learned w): {format(1-a3, \".4f\")}')\n",
    "print(f'DTW(w=100): {format(1-a2, \".4f\")}')"
   ]
  },
  {
   "cell_type": "code",
   "execution_count": null,
   "metadata": {},
   "outputs": [],
   "source": []
  }
 ],
 "metadata": {
  "kernelspec": {
   "display_name": "Python 3",
   "language": "python",
   "name": "python3"
  },
  "language_info": {
   "codemirror_mode": {
    "name": "ipython",
    "version": 3
   },
   "file_extension": ".py",
   "mimetype": "text/x-python",
   "name": "python",
   "nbconvert_exporter": "python",
   "pygments_lexer": "ipython3",
   "version": "3.8.5"
  }
 },
 "nbformat": 4,
 "nbformat_minor": 4
}
