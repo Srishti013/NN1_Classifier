{
 "cells": [
  {
   "cell_type": "code",
   "execution_count": 13,
   "metadata": {},
   "outputs": [],
   "source": [
    "import numpy as np\n",
    "import pandas as pd\n",
    "from scipy.io import arff\n",
    "import pandas as pd\n",
    "import pytempo\n",
    "import sys"
   ]
  },
  {
   "cell_type": "code",
   "execution_count": 14,
   "metadata": {},
   "outputs": [
    {
     "name": "stdout",
     "output_type": "stream",
     "text": [
      "<class 'pandas.core.frame.DataFrame'>\n",
      "RangeIndex: 150 entries, 0 to 149\n",
      "Columns: 302 entries, att1 to target\n",
      "dtypes: float64(301), object(1)\n",
      "memory usage: 354.0+ KB\n",
      "None\n",
      "<class 'pandas.core.frame.DataFrame'>\n",
      "RangeIndex: 2850 entries, 0 to 2849\n",
      "Columns: 302 entries, att1 to target\n",
      "dtypes: float64(301), object(1)\n",
      "memory usage: 6.6+ MB\n",
      "None\n"
     ]
    }
   ],
   "source": [
    "train = arff.loadarff('FreezerRegularTrain_TRAIN.arff')\n",
    "train = pd.DataFrame(train[0])\n",
    "test = arff.loadarff('FreezerRegularTrain_TEST.arff')\n",
    "test = pd.DataFrame(test[0])\n",
    "print(train.info())\n",
    "print(test.info())"
   ]
  },
  {
   "cell_type": "code",
   "execution_count": 15,
   "metadata": {},
   "outputs": [],
   "source": [
    "np_train=train.iloc[:,:-1].to_numpy()\n",
    "np_train_label=train.iloc[:,-1].to_numpy()\n",
    "np_train_label=np_train_label.astype(int)\n",
    "np_test=test.iloc[:,:-1].to_numpy()\n",
    "np_test_label=test.iloc[:,-1].to_numpy()\n",
    "np_test_label=np_test_label.astype(int)"
   ]
  },
  {
   "cell_type": "code",
   "execution_count": 16,
   "metadata": {},
   "outputs": [],
   "source": [
    "# Euclidean\n",
    "def Euclidean():\n",
    "    min_ed =sys.maxsize\n",
    "    min_y = sys.maxsize\n",
    "    result_ed=[]\n",
    "    ed=[]\n",
    "    for i in range(len(np_test)):\n",
    "        q = np_test[i]\n",
    "        min_ed =sys.maxsize\n",
    "        min_y = sys.maxsize\n",
    "        for j in range(len(np_train)):\n",
    "            c= np_train[j]\n",
    "            v = np.linalg.norm(q - c)\n",
    "            if(v<min_ed):\n",
    "                min_ed = v\n",
    "                min_y = np_train_label[j]\n",
    "        result_ed.append(min_y)\n",
    "    return result_ed\n",
    "\n",
    "# DTW\n",
    "def dtw():\n",
    "    min_dtw =sys.maxsize\n",
    "    min_y = sys.maxsize\n",
    "    ud = pytempo.univariate.distances\n",
    "    result=[]\n",
    "    dtw=[]\n",
    "    for i in range(len(np_test)):\n",
    "        q = np_test[i]\n",
    "        min_dtw =sys.maxsize\n",
    "        min_y = sys.maxsize\n",
    "        for j in range(len(np_train)):\n",
    "            c= np_train[j]\n",
    "            v = ud.dtw(q, c)\n",
    "            if(v<min_dtw):\n",
    "                min_dtw = v\n",
    "                min_y = np_train_label[j]\n",
    "        result.append(min_y)\n",
    "        dtw.append(min_dtw)  \n",
    "    return result\n",
    "def cdtw(w):\n",
    "    min_cdtw =sys.maxsize\n",
    "    min_y = sys.maxsize\n",
    "    L=301\n",
    "    result_cdtw=[]\n",
    "    cdtw=[]\n",
    "    for i in range(len(np_test)):\n",
    "        q = np_test[i]\n",
    "        min_cdtw =sys.maxsize\n",
    "        min_y = sys.maxsize\n",
    "        for j in range(len(np_train)):\n",
    "            c= np_train[j]\n",
    "            v = ud.cdtw(q, c, (round(w*(L/100))))\n",
    "            if(v<min_cdtw):\n",
    "                min_cdtw = v\n",
    "                min_y = np_train_label[j]\n",
    "        result_cdtw.append(min_y)\n",
    "        cdtw.append(min_cdtw) \n",
    "    return result_cdtw"
   ]
  },
  {
   "cell_type": "code",
   "execution_count": 17,
   "metadata": {},
   "outputs": [
    {
     "name": "stdout",
     "output_type": "stream",
     "text": [
      "Ed: 0.1951\n",
      "DTW(Learned w): 0.1074\n",
      "DTW(w=100): 0.1011\n"
     ]
    }
   ],
   "source": [
    "q1=0\n",
    "q2=0\n",
    "q3=0\n",
    "ud = pytempo.univariate.distances\n",
    "r1 = Euclidean()\n",
    "r2 = dtw()\n",
    "r3 = cdtw(1)\n",
    "for i in range(len(np_test_label)):\n",
    "    if r1[i]==np_test_label[i]:\n",
    "        q1=q1+1\n",
    "    if r2[i]==np_test_label[i]:\n",
    "        q2=q2+1\n",
    "    if r3[i]==np_test_label[i]:\n",
    "        q3=q3+1   \n",
    "a1 = q1/len(np_test_label)\n",
    "a2 = q2/len(np_test_label)\n",
    "a3 = q3/len(np_test_label)\n",
    "print(f'Ed: {format(1-a1, \".4f\")}')\n",
    "print(f'DTW(Learned w): {format(1-a3, \".4f\")}')\n",
    "print(f'DTW(w=100): {format(1-a2, \".4f\")}')"
   ]
  },
  {
   "cell_type": "code",
   "execution_count": null,
   "metadata": {},
   "outputs": [],
   "source": []
  }
 ],
 "metadata": {
  "kernelspec": {
   "display_name": "Python 3",
   "language": "python",
   "name": "python3"
  },
  "language_info": {
   "codemirror_mode": {
    "name": "ipython",
    "version": 3
   },
   "file_extension": ".py",
   "mimetype": "text/x-python",
   "name": "python",
   "nbconvert_exporter": "python",
   "pygments_lexer": "ipython3",
   "version": "3.8.5"
  }
 },
 "nbformat": 4,
 "nbformat_minor": 4
}
