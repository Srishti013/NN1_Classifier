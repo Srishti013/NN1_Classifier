{
 "cells": [
  {
   "cell_type": "code",
   "execution_count": 1,
   "metadata": {},
   "outputs": [],
   "source": [
    "import numpy as np\n",
    "import pandas as pd\n",
    "from scipy.io import arff\n",
    "import pandas as pd\n",
    "import pytempo\n",
    "import sys\n",
    "import math"
   ]
  },
  {
   "cell_type": "code",
   "execution_count": 2,
   "metadata": {},
   "outputs": [
    {
     "name": "stdout",
     "output_type": "stream",
     "text": [
      "<class 'pandas.core.frame.DataFrame'>\n",
      "RangeIndex: 390 entries, 0 to 389\n",
      "Columns: 301 entries, att1 to target\n",
      "dtypes: float64(300), object(1)\n",
      "memory usage: 917.2+ KB\n",
      "None\n",
      "<class 'pandas.core.frame.DataFrame'>\n",
      "RangeIndex: 390 entries, 0 to 389\n",
      "Columns: 301 entries, att1 to target\n",
      "dtypes: float64(300), object(1)\n",
      "memory usage: 917.2+ KB\n",
      "None\n"
     ]
    }
   ],
   "source": [
    "train = arff.loadarff('CricketY_TRAIN.arff')\n",
    "train = pd.DataFrame(train[0])\n",
    "test = arff.loadarff('CricketY_TEST.arff')\n",
    "test = pd.DataFrame(test[0])\n",
    "print(train.info())\n",
    "print(test.info())"
   ]
  },
  {
   "cell_type": "code",
   "execution_count": 3,
   "metadata": {},
   "outputs": [
    {
     "data": {
      "text/plain": [
       "array([[ 0.64856349,  0.61371976,  0.79789607, ...,  0.27722782,\n",
       "         0.27049531,  0.26870697],\n",
       "       [-0.33729635, -0.23942801, -0.33710738, ..., -0.31755228,\n",
       "        -0.32053349, -0.32005493],\n",
       "       [ 0.58008868,  0.4554952 ,  0.60869702, ...,  1.2063834 ,\n",
       "         1.1014446 ,  1.0973218 ],\n",
       "       ...,\n",
       "       [ 0.42941819,  0.51020363,  0.4277726 , ...,  1.2200804 ,\n",
       "         1.2146325 ,  1.2128421 ],\n",
       "       [-0.60367946, -0.4538433 , -0.71057727, ..., -0.9851651 ,\n",
       "        -0.98076995, -0.97583706],\n",
       "       [-0.01107744, -0.11726703, -0.23208957, ...,  0.26705055,\n",
       "         0.26616458,  0.50391719]])"
      ]
     },
     "execution_count": 3,
     "metadata": {},
     "output_type": "execute_result"
    }
   ],
   "source": [
    "np_train=train.iloc[:,:-1].to_numpy()\n",
    "np_train"
   ]
  },
  {
   "cell_type": "code",
   "execution_count": 4,
   "metadata": {},
   "outputs": [
    {
     "data": {
      "text/plain": [
       "array([ 2,  4,  3,  3,  5,  1,  8, 10,  4,  5, 10,  2,  9,  5,  5, 10,  7,\n",
       "       11,  7,  5,  2,  3,  3,  7,  1,  9,  6,  8, 12,  4, 11, 10,  9,  7,\n",
       "        5,  6, 11,  8,  8, 10, 10, 12,  7,  3,  4,  7,  1, 12, 11, 12, 12,\n",
       "        9, 10,  4,  2,  5,  2,  7,  5,  7, 12,  4,  3, 12,  8,  3, 10,  4,\n",
       "        7,  7,  1,  4, 11,  8,  6,  3,  6,  1,  5,  9, 10, 12, 11,  5,  9,\n",
       "        5,  8, 11,  9, 12,  2,  5, 11, 10,  4,  4,  7, 10, 10,  9,  1,  6,\n",
       "        5, 10,  8, 11, 12,  9,  5, 12,  1,  1, 12, 12,  5,  3,  2,  7,  9,\n",
       "        7,  6,  3,  1, 11,  2,  2, 10, 11,  8, 11,  5,  8,  8, 12,  2,  3,\n",
       "        4, 10,  3,  7,  9,  6,  7,  3,  9,  9,  4,  3, 12,  4,  6, 10,  1,\n",
       "        6,  1,  1,  1,  4,  5,  5, 12, 11, 12, 10,  1,  3,  7, 12,  5,  9,\n",
       "        2,  6, 10, 12,  6, 11,  1,  1,  6,  6,  5, 10, 10,  2,  4,  5, 11,\n",
       "       10, 12,  3,  4,  3,  1,  4,  5,  7,  9,  4,  8,  3,  7,  8,  9, 12,\n",
       "        8,  7,  1, 10,  9,  6,  5,  2,  4, 10,  7,  5,  1,  2,  7,  6,  8,\n",
       "       11,  4,  2,  5, 11,  8,  9,  6, 11,  2, 11, 12,  8,  3,  7,  2,  5,\n",
       "        5,  9,  3,  4,  6,  7,  7,  4, 10,  5,  4,  2,  3,  6,  9,  5,  7,\n",
       "        8, 11,  6,  3,  9,  2,  5, 12,  2,  2,  2,  8,  6, 12,  3,  9, 11,\n",
       "        9, 12,  6,  1, 10,  3,  2,  3,  8,  5, 12, 12, 12,  2, 11,  9, 10,\n",
       "        6,  7,  8,  4,  2, 11,  1, 11,  2,  3,  1,  6,  7,  7, 12,  6,  8,\n",
       "        1,  1,  8,  5,  6,  8,  6,  3,  7,  9,  6,  4, 12,  8,  8,  8,  6,\n",
       "        7,  4,  2,  4,  3, 11,  9, 10,  9,  6,  9,  4,  9,  2,  6, 10, 12,\n",
       "        2,  6, 10,  5,  9,  1,  3,  7,  2, 11,  2,  2, 12,  8, 12,  3,  3,\n",
       "        3,  3,  4, 10, 10, 11, 11,  8,  5,  5,  1,  5, 12,  8,  4, 11,  3,\n",
       "       11,  1, 11, 10,  6,  8,  8,  1,  2,  3,  9,  2,  8,  3,  7, 11])"
      ]
     },
     "execution_count": 4,
     "metadata": {},
     "output_type": "execute_result"
    }
   ],
   "source": [
    "np_train_label=train.iloc[:,-1].to_numpy()\n",
    "np_train_label=np_train_label.astype(int)\n",
    "np_train_label"
   ]
  },
  {
   "cell_type": "code",
   "execution_count": 5,
   "metadata": {},
   "outputs": [
    {
     "data": {
      "text/plain": [
       "array([[-0.11105748, -0.09022612, -0.01983751, ..., -0.52912551,\n",
       "        -0.52302749, -0.52768319],\n",
       "       [ 0.60310085,  0.44417446,  0.42087495, ...,  0.1473066 ,\n",
       "         0.1554887 ,  0.15103478],\n",
       "       [ 0.5028739 ,  0.51713595,  0.56797241, ...,  0.5376856 ,\n",
       "         0.55332614,  0.54481222],\n",
       "       ...,\n",
       "       [ 0.11665757, -0.23675922, -0.11618954, ..., -0.20370227,\n",
       "         0.14814326,  0.14307585],\n",
       "       [-0.30038609, -0.31129898, -0.23701196, ..., -0.28414469,\n",
       "        -0.4141128 , -0.41894275],\n",
       "       [-0.1846542 , -0.29486701, -0.18302842, ..., -0.28816946,\n",
       "        -0.28222449, -0.28546063]])"
      ]
     },
     "execution_count": 5,
     "metadata": {},
     "output_type": "execute_result"
    }
   ],
   "source": [
    "np_test=test.iloc[:,:-1].to_numpy()\n",
    "np_test"
   ]
  },
  {
   "cell_type": "code",
   "execution_count": 6,
   "metadata": {},
   "outputs": [
    {
     "data": {
      "text/plain": [
       "array([ 7,  9, 12,  4,  6, 11,  2,  9,  1, 11,  3,  5,  5,  9, 12,  5,  5,\n",
       "        6,  1,  6,  4,  4,  7,  9,  5,  3,  3,  9, 11,  4,  8, 10, 10,  1,\n",
       "        4,  5, 12,  6,  5,  9,  7, 10,  3, 11,  9,  5, 11,  8, 11,  6, 12,\n",
       "        3,  3, 12,  7,  9,  5, 10,  4, 12, 11, 11,  8,  2,  8,  9,  2,  2,\n",
       "        5,  5, 11,  6,  9,  1,  7,  4, 12, 11,  2, 12, 12,  8,  3,  7,  5,\n",
       "        6,  2, 11,  4,  7,  4,  6, 11,  4,  3, 11,  2,  4,  1,  9,  8, 10,\n",
       "       11,  5, 10, 12, 12,  2,  2,  8,  2,  8,  4,  2,  7,  1,  7, 10,  3,\n",
       "        7,  1,  7, 11,  6, 12, 12,  4, 11,  9,  7,  2,  3,  6,  2,  5,  5,\n",
       "        8,  8,  6,  5,  9,  4,  5, 12, 11,  6,  6,  2,  4,  8, 10, 11,  1,\n",
       "        4,  4,  8,  6,  7,  9,  7,  2, 10, 10,  8,  3,  6,  8, 11,  9,  7,\n",
       "        9, 11,  7,  1, 11, 10,  5,  1,  1,  2,  9, 12,  8, 12, 10,  1,  4,\n",
       "       10,  2,  3,  8,  2,  2, 10,  6, 11,  8,  2, 10,  9,  5,  8, 10,  7,\n",
       "        8,  3,  1,  8,  9,  7,  1, 11,  6,  7, 12,  5,  8, 12, 11,  8, 10,\n",
       "        8,  7,  4,  3, 10,  6,  4,  7,  1, 10,  4, 12,  3,  3,  8,  3, 10,\n",
       "        8,  7,  6, 12,  1,  9,  1, 12,  1,  9,  1,  4,  3,  9, 11,  5,  5,\n",
       "       12,  7,  4,  3, 12, 12,  8,  8,  1,  9,  6,  4,  3,  1,  3,  1,  7,\n",
       "       10,  1,  1,  2,  7,  7,  1,  2,  2,  9,  4, 10,  7,  1,  5,  8,  9,\n",
       "       10,  2,  4,  1, 12,  3,  6,  4,  2,  6,  4,  7,  1,  6,  2,  5,  9,\n",
       "        6, 12,  7,  2,  4,  6, 11,  1,  9,  6, 11,  5,  3,  2, 10,  7,  1,\n",
       "       10,  6, 10,  3,  9,  2,  1, 10,  1,  9,  6,  8, 11,  6, 10,  6,  9,\n",
       "        1,  9, 12,  9,  9,  1, 10,  2,  5,  4, 12,  5,  6,  3,  6, 10,  4,\n",
       "        6,  7, 11, 12,  5,  9,  3, 11,  8,  4,  3, 11, 10, 12,  8,  1, 11,\n",
       "        8,  3,  5,  4,  7,  3,  7,  4,  2, 12, 11, 10,  1,  1, 10,  4])"
      ]
     },
     "execution_count": 6,
     "metadata": {},
     "output_type": "execute_result"
    }
   ],
   "source": [
    "np_test_label=test.iloc[:,-1].to_numpy()\n",
    "np_test_label=np_test_label.astype(int)\n",
    "np_test_label"
   ]
  },
  {
   "cell_type": "code",
   "execution_count": 7,
   "metadata": {},
   "outputs": [],
   "source": [
    "\n",
    "# Euclidean\n",
    "def Euclidean():\n",
    "    min_ed =sys.maxsize\n",
    "    min_y = sys.maxsize\n",
    "    result_ed=[]\n",
    "    ed=[]\n",
    "    for i in range(len(np_test)):\n",
    "        q = np_test[i]\n",
    "        min_ed =sys.maxsize\n",
    "        min_y = sys.maxsize\n",
    "        for j in range(len(np_train)):\n",
    "            c= np_train[j]\n",
    "            v = np.linalg.norm(q - c)\n",
    "            if(v<min_ed):\n",
    "                min_ed = v\n",
    "                min_y = np_train_label[j]\n",
    "        result_ed.append(min_y)\n",
    "    return result_ed\n",
    "\n",
    "# DTW\n",
    "def dtw():\n",
    "    min_dtw =sys.maxsize\n",
    "    min_y = sys.maxsize\n",
    "    ud = pytempo.univariate.distances\n",
    "    result=[]\n",
    "    dtw=[]\n",
    "    for i in range(len(np_test)):\n",
    "        q = np_test[i]\n",
    "        min_dtw =sys.maxsize\n",
    "        min_y = sys.maxsize\n",
    "        for j in range(len(np_train)):\n",
    "            c= np_train[j]\n",
    "            v = ud.dtw(q, c)\n",
    "            if(v<min_dtw):\n",
    "                min_dtw = v\n",
    "                min_y = np_train_label[j]\n",
    "        result.append(min_y)\n",
    "        dtw.append(min_dtw)  \n",
    "    return result\n",
    "def cdtw(w):\n",
    "    min_cdtw =sys.maxsize\n",
    "    min_y = sys.maxsize\n",
    "    result_cdtw=[]\n",
    "    cdtw=[]\n",
    "    L = 300\n",
    "    for i in range(len(np_test)):\n",
    "        q = np_test[i]\n",
    "        min_cdtw =sys.maxsize\n",
    "        min_y = sys.maxsize\n",
    "        for j in range(len(np_train)):\n",
    "            c= np_train[j]\n",
    "            v = ud.cdtw(q, c, round(w*(L/100)))\n",
    "            if(v<min_cdtw):\n",
    "                min_cdtw = v\n",
    "                min_y = np_train_label[j]\n",
    "        result_cdtw.append(min_y)\n",
    "        cdtw.append(min_cdtw) \n",
    "    return result_cdtw"
   ]
  },
  {
   "cell_type": "code",
   "execution_count": 8,
   "metadata": {},
   "outputs": [
    {
     "name": "stdout",
     "output_type": "stream",
     "text": [
      "Ed: 0.4333\n",
      "DTW(Learned w): 0.2385\n",
      "DTW(w=100): 0.2564\n"
     ]
    }
   ],
   "source": [
    "q1=0\n",
    "q2=0\n",
    "q3=0\n",
    "ud = pytempo.univariate.distances\n",
    "r1 = Euclidean()\n",
    "r2 = dtw()\n",
    "r3 = cdtw(17)\n",
    "for i in range(len(np_test_label)):\n",
    "    if r1[i]==np_test_label[i]:\n",
    "        q1=q1+1\n",
    "    if r2[i]==np_test_label[i]:\n",
    "        q2=q2+1\n",
    "    if r3[i]==np_test_label[i]:\n",
    "        q3=q3+1   \n",
    "a1 = q1/len(np_test_label)\n",
    "a2 = q2/len(np_test_label)\n",
    "a3 = q3/len(np_test_label)\n",
    "print(f'Ed: {format(1-a1, \".4f\")}')\n",
    "print(f'DTW(Learned w): {format(1-a3, \".4f\")}')\n",
    "print(f'DTW(w=100): {format(1-a2, \".4f\")}')"
   ]
  },
  {
   "cell_type": "code",
   "execution_count": null,
   "metadata": {},
   "outputs": [],
   "source": []
  }
 ],
 "metadata": {
  "kernelspec": {
   "display_name": "Python 3",
   "language": "python",
   "name": "python3"
  },
  "language_info": {
   "codemirror_mode": {
    "name": "ipython",
    "version": 3
   },
   "file_extension": ".py",
   "mimetype": "text/x-python",
   "name": "python",
   "nbconvert_exporter": "python",
   "pygments_lexer": "ipython3",
   "version": "3.8.5"
  }
 },
 "nbformat": 4,
 "nbformat_minor": 4
}
